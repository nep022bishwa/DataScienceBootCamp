{
  "nbformat": 4,
  "nbformat_minor": 0,
  "metadata": {
    "colab": {
      "provenance": []
    },
    "kernelspec": {
      "name": "python3",
      "display_name": "Python 3"
    },
    "language_info": {
      "name": "python"
    }
  },
  "cells": [
    {
      "cell_type": "markdown",
      "source": [],
      "metadata": {
        "id": "r_XG5K8t-Wq2"
      }
    },
    {
      "cell_type": "code",
      "execution_count": null,
      "metadata": {
        "id": "E-oufccM-On7"
      },
      "outputs": [],
      "source": [
        "1.A company decided to give bonus of 5% to employee if his/her year of service is more than 5 years.\n",
        "Ask user for their salary and year of service and print the net bonus amount.\n"
      ]
    },
    {
      "cell_type": "code",
      "source": [
        "service_yrs=float(input('Please Enter your years of service in company\\n'));\n",
        "salary=float(input('Enter your salary\\n'));\n",
        "if service_yrs>5:\n",
        "  print('your Bonus is {bonus} and total amount is {tot}'.format(bonus=salary*0.5,tot=salary+salary*0.5))\n",
        "else:\n",
        "  print('You are not eligible for Bonus your net pay is {}'.format(salary))"
      ],
      "metadata": {
        "colab": {
          "base_uri": "https://localhost:8080/"
        },
        "id": "M2e_MnEw-eal",
        "outputId": "9654fb96-7b4c-43c7-c888-83f4bca71cd1"
      },
      "execution_count": null,
      "outputs": [
        {
          "output_type": "stream",
          "name": "stdout",
          "text": [
            "Please Enter your years of service in company10\n",
            "Enter your salary1000\n",
            "your Bonus is 500.0 and total amount is 1500.0\n"
          ]
        }
      ]
    },
    {
      "cell_type": "markdown",
      "source": [
        "# **2** Take values of length and breadth of a rectangle from user and check if it is square or not.**\n",
        "**"
      ],
      "metadata": {
        "id": "SG1TqBl8CRVd"
      }
    },
    {
      "cell_type": "code",
      "source": [
        "l=float(input('Enter length of rectangular object\\n'))\n",
        "b=float(input('Enter length of rectangular object\\n'))\n",
        "if l==b:\n",
        "  print('This is square and area is {}'.format(l*b))\n",
        "else:\n",
        "  print('This is not square and its area is {}'.format(l*b))"
      ],
      "metadata": {
        "colab": {
          "base_uri": "https://localhost:8080/"
        },
        "id": "zLf4D6msCb7n",
        "outputId": "aa1c09f8-8ed4-452c-c978-cb8087fe3e2f"
      },
      "execution_count": null,
      "outputs": [
        {
          "output_type": "stream",
          "name": "stdout",
          "text": [
            "Enter length of rectangular object6\n",
            "Enter length of rectangular object6\n",
            "This is square and area is 36.0\n"
          ]
        }
      ]
    },
    {
      "cell_type": "markdown",
      "source": [
        "**3.Take two int values from user and print greatest among them.\n",
        "**"
      ],
      "metadata": {
        "id": "Eoj15KFTPKTB"
      }
    },
    {
      "cell_type": "code",
      "source": [
        "x=float(input('Enter first number\\n'))\n",
        "y=float(input('Enter second number\\n'))\n",
        "if x==y:\n",
        "  print(' x=y={} is same.'.format(x))\n",
        "else:\n",
        "  if x>y:\n",
        "    print('x={} is greater than y={}'.format(x,y))\n",
        "  else:\n",
        "    print('y={} is greater than x={}'.format(y,x))"
      ],
      "metadata": {
        "colab": {
          "base_uri": "https://localhost:8080/"
        },
        "id": "TgUHt1IlCuve",
        "outputId": "460a7301-88a3-4a7d-9d4f-602755a3f49d"
      },
      "execution_count": null,
      "outputs": [
        {
          "output_type": "stream",
          "name": "stdout",
          "text": [
            "Enter first number\n",
            "6\n",
            "Enter second number\n",
            "6\n",
            " x=y=6.0 is same.\n"
          ]
        }
      ]
    },
    {
      "cell_type": "markdown",
      "source": [
        "**4.A shop will give discount of 10% if the cost of purchased quantity is more than 1000.\n",
        "Ask user for quantity\n",
        "Suppose, one unit will cost 100.\n",
        "Judge and print total cost for user.**"
      ],
      "metadata": {
        "id": "QG8JN-EXUwLw"
      }
    },
    {
      "cell_type": "code",
      "source": [
        "no_unit=float(input('Enter the number of unit\\n'))\n",
        "unit_price=float(input('Enter the unit price'))\n",
        "total_cost=no_unit*unit_price\n",
        "if total_cost>1000:\n",
        "  print('Discount={} and total cost={}'.format(total_cost*.1,total_cost*0.9))\n",
        "else:\n",
        "  print('No Discount, Total cost={}'.format(total_cost))"
      ],
      "metadata": {
        "colab": {
          "base_uri": "https://localhost:8080/"
        },
        "id": "gHBldwNYU_AN",
        "outputId": "c564dd48-560e-4934-83ca-26c63309131e"
      },
      "execution_count": null,
      "outputs": [
        {
          "output_type": "stream",
          "name": "stdout",
          "text": [
            "Enter the number of unit\n",
            "3\n",
            "Enter the unit price200\n",
            "No Discount, Total cost=600.0\n"
          ]
        }
      ]
    },
    {
      "cell_type": "markdown",
      "source": [
        "**5.A school has following rules for grading system:\n",
        "a. Below 25 - F\n",
        "b. 25 to 45 - E\n",
        "c. 45 to 50 - D\n",
        "d. 50 to 60 - C\n",
        "e. 60 to 80 - B\n",
        "f. Above 80 - A\n",
        "Ask user to enter marks and print the corresponding grade.\n",
        "**"
      ],
      "metadata": {
        "id": "6gyEcasVWu1B"
      }
    },
    {
      "cell_type": "code",
      "source": [
        "x=float(input('Enter your Mark\\n'))\n",
        "if x<25:\n",
        "  print('Grade is F')\n",
        "elif x>=25 and x<45:\n",
        "  print('Grade is E')\n",
        "elif x>=45 and x<50:\n",
        "  print('Grade is D')\n",
        "elif x>=50 and x<60:\n",
        "  print('Grade is C')\n",
        "elif x>=60 and x<80:\n",
        "  print('Grade is B')\n",
        "else:\n",
        "  print('Grade is A')"
      ],
      "metadata": {
        "colab": {
          "base_uri": "https://localhost:8080/"
        },
        "id": "8FhmRQ2PWrDZ",
        "outputId": "750fd8b5-efed-4597-c91f-5f0c3a0ada1f"
      },
      "execution_count": null,
      "outputs": [
        {
          "output_type": "stream",
          "name": "stdout",
          "text": [
            "Enter your Mark\n",
            "50\n",
            "Grade is C\n"
          ]
        }
      ]
    },
    {
      "cell_type": "markdown",
      "source": [
        "# **.Take input of age of 3 people by user and determine oldest and youngest among them. **bold text**\n",
        "**"
      ],
      "metadata": {
        "id": "oHR5kwZ1Zwem"
      }
    },
    {
      "cell_type": "code",
      "source": [
        "age1 = float(input(\"Enter age Person 1:\"))\n",
        "age2 = float(input(\"Enter age Person 2: \"))\n",
        "age3 = float(input(\"Enter age Person 3: \"))\n",
        "\n",
        "if (age1>age2) and (age1>age3):\n",
        "  print('person first is oldest')\n",
        "  if age2>age3:\n",
        "    print('Person 3 is youngest')\n",
        "  else:\n",
        "    print('Person 2 is youngest')\n",
        "elif (age2>age1) and (age2>age3):\n",
        "  print('Person 2 is oldest')\n",
        "  if age1>age3:\n",
        "    print('Person 3 is youngest')\n",
        "  elif age3>age1:\n",
        "    print('Person 1 is youngest')\n",
        "else:\n",
        "  print('Person 3 is oldest')\n",
        "  if age1>age2:\n",
        "    print('Person 2 is youngets')\n",
        "  else:\n",
        "    print('Person 1 is youngest')\n",
        "\n"
      ],
      "metadata": {
        "colab": {
          "base_uri": "https://localhost:8080/"
        },
        "id": "f5U2h_21Z9jt",
        "outputId": "8c877f7f-cad0-4cb7-bc13-a8d9fae8296c"
      },
      "execution_count": null,
      "outputs": [
        {
          "output_type": "stream",
          "name": "stdout",
          "text": [
            "Enter age Person 1:44\n",
            "Enter age Person 2: 22\n",
            "Enter age Person 3: 10\n",
            "person first is oldest\n",
            "Person 3 is youngest\n"
          ]
        }
      ]
    },
    {
      "cell_type": "markdown",
      "source": [
        "**7.Write a program to print absolute vlaue of a number entered by user. E.g.-\n",
        "INPUT: 1        OUTPUT: 1\n",
        "INPUT: -1        OUTPUT: 1**"
      ],
      "metadata": {
        "id": "e4VbdFhamgMB"
      }
    },
    {
      "cell_type": "code",
      "source": [
        "input_no=float(input('Enter any number'))\n",
        "print(abs(input_no))"
      ],
      "metadata": {
        "colab": {
          "base_uri": "https://localhost:8080/"
        },
        "id": "6YPXDu_CmkAR",
        "outputId": "a301146a-a64f-4574-b545-c515bf4ed261"
      },
      "execution_count": null,
      "outputs": [
        {
          "output_type": "stream",
          "name": "stdout",
          "text": [
            "Enter any number-5\n",
            "5.0\n"
          ]
        }
      ]
    },
    {
      "cell_type": "markdown",
      "source": [
        "**.A student will not be allowed to sit in exam if his/her attendence is less than 75%.\n",
        "Take following input from user\n",
        "Number of classes held\n",
        "Number of classes attended.\n",
        "And print\n",
        "percentage of class attended\n",
        "Is student is allowed to sit in exam or not.**"
      ],
      "metadata": {
        "id": "oUwH6fTCm8rZ"
      }
    },
    {
      "cell_type": "code",
      "source": [
        "no_class=float(input('Enter number of total class')) # This is the total number of class\n",
        "no_class_att=float(input('Enter number of class atten')) # This is the toal number of class attended by student\n",
        "att_perct=100*no_class_att/no_class\n",
        "if att_perct>=75:\n",
        "  print('Your attendence is {}%. You are allowed to take exama'.format(round(att_perct,3)))\n",
        "else:\n",
        "  print('Your attendence is {}%. you are not allowed to sit on exam'.format(round(att_perct,3)))\n"
      ],
      "metadata": {
        "colab": {
          "base_uri": "https://localhost:8080/"
        },
        "id": "JK-XAELdnE5I",
        "outputId": "a8f64afa-1314-4757-c573-52956e3fc2fa"
      },
      "execution_count": null,
      "outputs": [
        {
          "output_type": "stream",
          "name": "stdout",
          "text": [
            "Enter number of total class99\n",
            "Enter number of class atten88\n",
            "Your attendence is 88.889%. You are allowed to take exama\n"
          ]
        }
      ]
    },
    {
      "cell_type": "markdown",
      "source": [
        "**Modify the above question to allow student to sit if he/she has medical cause. Ask user if he/she has medical cause or not ( 'Y' or 'N' ) and print accordingly.\n",
        "** **bold text**"
      ],
      "metadata": {
        "id": "KxY53zdNp_Ap"
      }
    },
    {
      "cell_type": "code",
      "source": [
        "x=input('Enter Y if yes and N if no for the medical condition\\n\n",
        "\n",
        "\n",
        "        ').upper()\n",
        "if x=='Y':\n",
        "  print('You are allowed to sit')\n",
        "else:\n",
        "  print('You are not allowed to sit')"
      ],
      "metadata": {
        "colab": {
          "base_uri": "https://localhost:8080/"
        },
        "id": "9xxOwf0ip95B",
        "outputId": "e0266df0-bdcf-485e-87fb-f68d150d32a9"
      },
      "execution_count": null,
      "outputs": [
        {
          "output_type": "stream",
          "name": "stdout",
          "text": [
            "Enter Y if yes and N if no for the medical condition\n",
            "N\n",
            "You are not allowed to sit\n"
          ]
        }
      ]
    }
  ]
}