{
  "nbformat": 4,
  "nbformat_minor": 0,
  "metadata": {
    "colab": {
      "provenance": []
    },
    "kernelspec": {
      "name": "python3",
      "display_name": "Python 3"
    },
    "language_info": {
      "name": "python"
    }
  },
  "cells": [
    {
      "cell_type": "code",
      "execution_count": 5,
      "metadata": {
        "colab": {
          "base_uri": "https://localhost:8080/"
        },
        "id": "6KRV9cHyiXjy",
        "outputId": "f308784f-3847-4fa6-e573-598de9132ee3"
      },
      "outputs": [
        {
          "output_type": "stream",
          "name": "stdout",
          "text": [
            "2\n",
            "2\n"
          ]
        }
      ],
      "source": [
        "# using of methods for tupple\n",
        "\n",
        "#using count method for tupple\n",
        "tup1=(1,4,6,8,10,12,8,4,-7,12,-7,'Garlic','Banana','apple','Ginger','Garlic')\n",
        "print(tup1.count(12))\n",
        "print(tup1.count('Garlic'))"
      ]
    },
    {
      "cell_type": "code",
      "source": [
        "#using index method for tupple\n",
        "tup1=(1,4,6,8,10,12,8,4,-7,12,-7,'Garlic','Banana','apple','Ginger','Garlic')\n",
        "print(tup1.index(12))\n",
        "print(tup1.index('Garlic'))"
      ],
      "metadata": {
        "colab": {
          "base_uri": "https://localhost:8080/"
        },
        "id": "wHb67SObjZuT",
        "outputId": "d4d62d70-7d1c-491b-8105-2f59075bd942"
      },
      "execution_count": 6,
      "outputs": [
        {
          "output_type": "stream",
          "name": "stdout",
          "text": [
            "5\n",
            "11\n"
          ]
        }
      ]
    },
    {
      "cell_type": "markdown",
      "source": [
        "**Write a python program to find those numbers which are divisible by 7 and multiples of 5, between 1500 and 2700 (both included)**"
      ],
      "metadata": {
        "id": "mdJyHp5nkAts"
      }
    },
    {
      "cell_type": "code",
      "source": [
        "a=1500\n",
        "b=2700\n",
        "lst=[]\n",
        "while a<=b:\n",
        "  if a%7==0 and b%5==0:\n",
        "    lst.append(a)\n",
        "  a +=1\n",
        "print(lst)\n",
        ""
      ],
      "metadata": {
        "colab": {
          "base_uri": "https://localhost:8080/"
        },
        "id": "FKp4zI1gj1FE",
        "outputId": "4a67b7d7-eb40-4d6b-a04e-bf24ac611f3a"
      },
      "execution_count": 8,
      "outputs": [
        {
          "output_type": "stream",
          "name": "stdout",
          "text": [
            "[1505, 1512, 1519, 1526, 1533, 1540, 1547, 1554, 1561, 1568, 1575, 1582, 1589, 1596, 1603, 1610, 1617, 1624, 1631, 1638, 1645, 1652, 1659, 1666, 1673, 1680, 1687, 1694, 1701, 1708, 1715, 1722, 1729, 1736, 1743, 1750, 1757, 1764, 1771, 1778, 1785, 1792, 1799, 1806, 1813, 1820, 1827, 1834, 1841, 1848, 1855, 1862, 1869, 1876, 1883, 1890, 1897, 1904, 1911, 1918, 1925, 1932, 1939, 1946, 1953, 1960, 1967, 1974, 1981, 1988, 1995, 2002, 2009, 2016, 2023, 2030, 2037, 2044, 2051, 2058, 2065, 2072, 2079, 2086, 2093, 2100, 2107, 2114, 2121, 2128, 2135, 2142, 2149, 2156, 2163, 2170, 2177, 2184, 2191, 2198, 2205, 2212, 2219, 2226, 2233, 2240, 2247, 2254, 2261, 2268, 2275, 2282, 2289, 2296, 2303, 2310, 2317, 2324, 2331, 2338, 2345, 2352, 2359, 2366, 2373, 2380, 2387, 2394, 2401, 2408, 2415, 2422, 2429, 2436, 2443, 2450, 2457, 2464, 2471, 2478, 2485, 2492, 2499, 2506, 2513, 2520, 2527, 2534, 2541, 2548, 2555, 2562, 2569, 2576, 2583, 2590, 2597, 2604, 2611, 2618, 2625, 2632, 2639, 2646, 2653, 2660, 2667, 2674, 2681, 2688, 2695]\n"
          ]
        }
      ]
    },
    {
      "cell_type": "markdown",
      "source": [
        "**write a python program to count the number of even and odd numners in a series of numbers**\n"
      ],
      "metadata": {
        "id": "3fdsJb51lvBy"
      }
    },
    {
      "cell_type": "code",
      "source": [
        "\n",
        "a=list(range(2,51))\n",
        "even_no=list(filter(lambda x:x%2==0,a))\n",
        "odd_no=list(filter(lambda x:x%2 !=0,a))\n",
        "print(even_no)\n",
        "print(odd_no)"
      ],
      "metadata": {
        "colab": {
          "base_uri": "https://localhost:8080/"
        },
        "id": "nBFJ0VXxmkzw",
        "outputId": "af17164d-935b-48b7-9dc2-ccfd319635dc"
      },
      "execution_count": 14,
      "outputs": [
        {
          "output_type": "stream",
          "name": "stdout",
          "text": [
            "[2, 4, 6, 8, 10, 12, 14, 16, 18, 20, 22, 24, 26, 28, 30, 32, 34, 36, 38, 40, 42, 44, 46, 48, 50]\n",
            "[3, 5, 7, 9, 11, 13, 15, 17, 19, 21, 23, 25, 27, 29, 31, 33, 35, 37, 39, 41, 43, 45, 47, 49]\n"
          ]
        }
      ]
    },
    {
      "cell_type": "markdown",
      "source": [
        "**Write a python program that prints all the numbers from 0 to 6 except 3 and 6**"
      ],
      "metadata": {
        "id": "4rIw29Dfn1PW"
      }
    },
    {
      "cell_type": "code",
      "source": [
        "num1=list(range(0,7))\n",
        "my_lst=list(filter(lambda x: True if (x%3!=0) else False,num1))\n",
        "my_lst.insert(0,0)\n",
        "print(my_lst)"
      ],
      "metadata": {
        "colab": {
          "base_uri": "https://localhost:8080/"
        },
        "id": "-CUFqYysn0S_",
        "outputId": "4d039749-c781-42c7-80a4-06f3b4256b13"
      },
      "execution_count": 21,
      "outputs": [
        {
          "output_type": "stream",
          "name": "stdout",
          "text": [
            "[0, 1, 2, 4, 5]\n"
          ]
        }
      ]
    }
  ]
}