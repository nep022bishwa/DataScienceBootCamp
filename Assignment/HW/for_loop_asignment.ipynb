{
  "nbformat": 4,
  "nbformat_minor": 0,
  "metadata": {
    "colab": {
      "provenance": []
    },
    "kernelspec": {
      "name": "python3",
      "display_name": "Python 3"
    },
    "language_info": {
      "name": "python"
    }
  },
  "cells": [
    {
      "cell_type": "markdown",
      "source": [
        "**1) Swap two numbers using 3rd variable **\n"
      ],
      "metadata": {
        "id": "qZXv1kuDUVTM"
      }
    },
    {
      "cell_type": "code",
      "source": [
        "a=5\n",
        "b=10\n",
        "c=a;\n",
        "a=b\n",
        "b=c\n",
        "print(a,b)"
      ],
      "metadata": {
        "colab": {
          "base_uri": "https://localhost:8080/"
        },
        "id": "nqB823NUUeT8",
        "outputId": "94614c89-dcfb-484f-9c8d-638d217dcce5"
      },
      "execution_count": null,
      "outputs": [
        {
          "output_type": "stream",
          "name": "stdout",
          "text": [
            "10 5\n"
          ]
        }
      ]
    },
    {
      "cell_type": "markdown",
      "source": [
        "**2) Swap two numbers without using 3rd variable**\n"
      ],
      "metadata": {
        "id": "zlkannUQU9ts"
      }
    },
    {
      "cell_type": "code",
      "source": [
        "x=5\n",
        "y=7\n",
        "x,y=y,x\n",
        "print(x,y)"
      ],
      "metadata": {
        "colab": {
          "base_uri": "https://localhost:8080/"
        },
        "id": "ZaBP_cd9VAFU",
        "outputId": "484afff3-8725-40aa-fc90-ce1ed9ee854c"
      },
      "execution_count": null,
      "outputs": [
        {
          "output_type": "stream",
          "name": "stdout",
          "text": [
            "7 5\n"
          ]
        }
      ]
    },
    {
      "cell_type": "markdown",
      "source": [
        "**3) Remove duplicate elements from a list without converting to tuple**"
      ],
      "metadata": {
        "id": "tQDcY0ccVPm8"
      }
    },
    {
      "cell_type": "code",
      "source": [
        "lst1=[1,4,6,7,9,10,3,6,10,4]\n",
        "list(dict.fromkeys(lst1))\n",
        "s=[]\n",
        "for i in lst1:\n",
        "  if i not in s:\n",
        "    s.append(i)\n",
        "print(s)"
      ],
      "metadata": {
        "colab": {
          "base_uri": "https://localhost:8080/"
        },
        "id": "pO4I9WY-Vbct",
        "outputId": "22d1fb6d-9448-44fa-e86d-14c4c2d86a32"
      },
      "execution_count": null,
      "outputs": [
        {
          "output_type": "stream",
          "name": "stdout",
          "text": [
            "[1, 4, 6, 7, 9, 10, 3]\n"
          ]
        }
      ]
    },
    {
      "cell_type": "markdown",
      "source": [
        "**3) Write a program to find greatest common divisor (GCD) or highest common factor (HCF) of given two numbers**\n"
      ],
      "metadata": {
        "id": "WPiNetPDmUs5"
      }
    },
    {
      "cell_type": "code",
      "source": [
        "x=54; y=24\n",
        "\n",
        "if x>y:\n",
        "  x,y=y,x\n",
        "for i in range(1,x+1):\n",
        "  if (x%i==0) and (y%i==0):\n",
        "    fc=i\n",
        "\n",
        "hcf=fc\n",
        "print(hcf)"
      ],
      "metadata": {
        "colab": {
          "base_uri": "https://localhost:8080/"
        },
        "id": "2Vbx5SYImTk6",
        "outputId": "41d28c58-7c41-467f-e582-133e80acd16d"
      },
      "execution_count": null,
      "outputs": [
        {
          "output_type": "stream",
          "name": "stdout",
          "text": [
            "6\n"
          ]
        }
      ]
    },
    {
      "cell_type": "markdown",
      "source": [
        "4) Write a loop to print following series\n",
        "10, 20, 30,  …………………, 300 **bold text****bold text**"
      ],
      "metadata": {
        "id": "97XDbwUvpQGp"
      }
    },
    {
      "cell_type": "code",
      "source": [
        "lst2=[]\n",
        "for i in range(10,310,10):\n",
        "  lst2.append(i)\n",
        "print(lst2)"
      ],
      "metadata": {
        "colab": {
          "base_uri": "https://localhost:8080/"
        },
        "id": "7hKW-EmppPA7",
        "outputId": "c40a8f70-97b7-4417-bf78-91b518c2d88f"
      },
      "execution_count": null,
      "outputs": [
        {
          "output_type": "stream",
          "name": "stdout",
          "text": [
            "[10, 20, 30, 40, 50, 60, 70, 80, 90, 100, 110, 120, 130, 140, 150, 160, 170, 180, 190, 200, 210, 220, 230, 240, 250, 260, 270, 280, 290, 300]\n"
          ]
        }
      ]
    },
    {
      "cell_type": "markdown",
      "source": [
        "**5) Write a loop to print following series\n",
        "105,98,91,………………………,7 **bold text**\n",
        "**"
      ],
      "metadata": {
        "id": "k0Q_bHrvpkRZ"
      }
    },
    {
      "cell_type": "code",
      "source": [
        "lst2=[]\n",
        "for i in range(105,0,-7):\n",
        "  lst2.append(i)\n",
        "\n",
        "print(lst2)"
      ],
      "metadata": {
        "colab": {
          "base_uri": "https://localhost:8080/"
        },
        "id": "InzNuUuFpqOR",
        "outputId": "aec7ce48-ff38-4f53-e164-869a16cec7a0"
      },
      "execution_count": null,
      "outputs": [
        {
          "output_type": "stream",
          "name": "stdout",
          "text": [
            "[105, 98, 91, 84, 77, 70, 63, 56, 49, 42, 35, 28, 21, 14, 7]\n"
          ]
        }
      ]
    },
    {
      "cell_type": "markdown",
      "source": [
        "**6) Write a program to print number names of digits in a number like\n",
        "SAMPLE INPUT 231 \t\tSAMPLE OUTPUT TWO THREE ONE **bold text**\n",
        "**"
      ],
      "metadata": {
        "id": "Z_cC75tOqKrh"
      }
    },
    {
      "cell_type": "code",
      "source": [
        "num_dict={0:'Zero',1:'One',2:'Two',3:'Three',4:'Four',5:'Five',6:'Six',7:'Seven',8:'Eight',9:'Nine'}\n",
        "\n",
        "x=input('Please Enter the number\\n')\n",
        "num_in_word=''\n",
        "for i in x:\n",
        "  num_in_word +=str(num_dict[int(i)].upper())\n",
        "print(num_in_word)"
      ],
      "metadata": {
        "colab": {
          "base_uri": "https://localhost:8080/"
        },
        "id": "SiZbbQAkqJ9i",
        "outputId": "c016b113-0dad-4e23-c396-b2698b1e8d96"
      },
      "execution_count": null,
      "outputs": [
        {
          "output_type": "stream",
          "name": "stdout",
          "text": [
            "Please Enter the number\n",
            "8965\n",
            "EIGHTNINESIXFIVE\n"
          ]
        }
      ]
    },
    {
      "cell_type": "code",
      "source": [
        "'string2'+'tw'"
      ],
      "metadata": {
        "colab": {
          "base_uri": "https://localhost:8080/",
          "height": 36
        },
        "id": "t2hEcCGfMpjV",
        "outputId": "3222b446-bcbd-48b6-e0f6-c00763ca8bda"
      },
      "execution_count": null,
      "outputs": [
        {
          "output_type": "execute_result",
          "data": {
            "text/plain": [
              "'string2tw'"
            ],
            "application/vnd.google.colaboratory.intrinsic+json": {
              "type": "string"
            }
          },
          "metadata": {},
          "execution_count": 17
        }
      ]
    },
    {
      "cell_type": "markdown",
      "source": [
        "**7) Write a program to print Fibonacci series till n terms take n =50**\n"
      ],
      "metadata": {
        "id": "dltdQuaKORTq"
      }
    },
    {
      "cell_type": "code",
      "source": [
        "a=[1]\n",
        "\n",
        "for i in range(1,50):\n",
        "  if i==1:\n",
        "    a.append(1)\n",
        "  else:\n",
        "    a.append(a[i-1]+a[i-2])\n",
        "\n",
        "print(a)\n",
        "print(len(a))"
      ],
      "metadata": {
        "colab": {
          "base_uri": "https://localhost:8080/"
        },
        "id": "mqd8eguOOUSD",
        "outputId": "3c00b7d4-3973-41ed-b565-ca18428dc533"
      },
      "execution_count": null,
      "outputs": [
        {
          "output_type": "stream",
          "name": "stdout",
          "text": [
            "[1, 1, 2, 3, 5, 8, 13, 21, 34, 55, 89, 144, 233, 377, 610, 987, 1597, 2584, 4181, 6765, 10946, 17711, 28657, 46368, 75025, 121393, 196418, 317811, 514229, 832040, 1346269, 2178309, 3524578, 5702887, 9227465, 14930352, 24157817, 39088169, 63245986, 102334155, 165580141, 267914296, 433494437, 701408733, 1134903170, 1836311903, 2971215073, 4807526976, 7778742049, 12586269025]\n",
            "50\n"
          ]
        }
      ]
    },
    {
      "cell_type": "markdown",
      "source": [
        "**8) Write a program to print factorial of a number**\n"
      ],
      "metadata": {
        "id": "6enaCTC1PX4K"
      }
    },
    {
      "cell_type": "code",
      "source": [
        "n=int(input('Please enter to find the factorial value\\n'))\n",
        "prod=1\n",
        "for i in range(1,n+1):\n",
        "  prod=prod*i\n",
        "\n",
        "print(f'Factorial value of {n} is {prod}')\n"
      ],
      "metadata": {
        "colab": {
          "base_uri": "https://localhost:8080/"
        },
        "id": "fn2m8OWKPC6D",
        "outputId": "aeb68133-fd40-4c96-8cf7-ae2a9f3eb781"
      },
      "execution_count": null,
      "outputs": [
        {
          "output_type": "stream",
          "name": "stdout",
          "text": [
            "Please enter to find the factorial value\n",
            "5\n",
            "Factorial value of 5 is 120\n"
          ]
        }
      ]
    },
    {
      "cell_type": "markdown",
      "source": [
        "**9) Write a program to check if a number is Armstrong or not**"
      ],
      "metadata": {
        "id": "gNEt0AFHTIu5"
      }
    },
    {
      "cell_type": "code",
      "source": [
        "input_num=input('Please Enter the positive integer:\\n')\n",
        "len_num=len(input_num)\n",
        "val=0\n",
        "for i in input_num:\n",
        "  val +=int(i)**len_num\n",
        "if val==int(input_num):\n",
        "  print('Your entered number: ',input_num, ' is Armstrong number')\n",
        "else:\n",
        "   print('Your entered number',input_num, 'is not the Armstrong number')\n",
        "\n"
      ],
      "metadata": {
        "colab": {
          "base_uri": "https://localhost:8080/"
        },
        "id": "ZISNYIxATMQJ",
        "outputId": "aaad801a-017b-40af-edb9-55805924c0ed"
      },
      "execution_count": null,
      "outputs": [
        {
          "output_type": "stream",
          "name": "stdout",
          "text": [
            "Please Enter the positive integer:\n",
            "153\n",
            "Your entered number:  153  is Armstrong number\n"
          ]
        }
      ]
    },
    {
      "cell_type": "markdown",
      "source": [
        "**10) Write a program to convert binary to decimal**"
      ],
      "metadata": {
        "id": "dt6IP1Tobvu5"
      }
    },
    {
      "cell_type": "code",
      "source": [
        "from functools import reduce\n",
        "bin_num=input('please Enter the binary number \\n')\n",
        "\n",
        "dec_num=reduce(lambda x,y:2*x+y,map(int,bin_num))\n",
        "print(dec_num)"
      ],
      "metadata": {
        "colab": {
          "base_uri": "https://localhost:8080/"
        },
        "id": "-zzn5RxvbypR",
        "outputId": "a87bac0e-9ebb-4124-e378-af5d1fba20ed"
      },
      "execution_count": null,
      "outputs": [
        {
          "output_type": "stream",
          "name": "stdout",
          "text": [
            "please Enter the binary number \n",
            "1000111001\n",
            "569\n"
          ]
        }
      ]
    },
    {
      "cell_type": "markdown",
      "source": [
        "**11) Write a program to convert decimal to binary**\n"
      ],
      "metadata": {
        "id": "9XIAnqULS5iv"
      }
    },
    {
      "cell_type": "code",
      "source": [
        "n=13\n",
        "my_list=''\n",
        "while n>0:\n",
        "  rem=n%2\n",
        "  rem\n",
        "  n=n//2\n",
        "  my_list=my_list+str(rem)\n",
        "\n",
        "print('Binary number is:' + my_list[-1:-len(my_list)-1:-1])\n",
        "\n",
        "\n"
      ],
      "metadata": {
        "colab": {
          "base_uri": "https://localhost:8080/"
        },
        "id": "wn9XovzIS38n",
        "outputId": "f18db489-f338-4069-f8ac-5edde8d13b7c"
      },
      "execution_count": null,
      "outputs": [
        {
          "output_type": "stream",
          "name": "stdout",
          "text": [
            "Binary number is:1101\n"
          ]
        }
      ]
    },
    {
      "cell_type": "markdown",
      "source": [
        "**12) Write a program to check if number is palindrome on not (Without converting to string)**\n"
      ],
      "metadata": {
        "id": "gwUV81rxYPzW"
      }
    },
    {
      "cell_type": "code",
      "source": [
        "x=input('Enter a positive integer number \\n')\n",
        "\n",
        "mid_point=len(x)//2\n",
        "rem=len(x)%2\n",
        "if rem==1 and x[0:mid_point]==x[len(x)-1:mid_point:-1]:\n",
        "  print(x, ' is palindrome number')\n",
        "elif rem==0 and x[0:mid_point]==x[len(x):mid_point-1:-1]:\n",
        "  print(x, ' is palindrome number')\n",
        "else:\n",
        "  print(x, ' is not palindrome number')"
      ],
      "metadata": {
        "colab": {
          "base_uri": "https://localhost:8080/"
        },
        "id": "o5gPJYkwYTnG",
        "outputId": "a68a03dd-ab58-4ac8-9976-7f1ca52e73ce"
      },
      "execution_count": null,
      "outputs": [
        {
          "output_type": "stream",
          "name": "stdout",
          "text": [
            "Enter a positive integer number \n",
            "456897\n",
            "456897  is not palindrome number\n"
          ]
        }
      ]
    },
    {
      "cell_type": "markdown",
      "source": [
        " **13) Write a program to print all numbers which are divisible by 13 but not by 3 between 100 and 500**\n"
      ],
      "metadata": {
        "id": "K_Gcx0-chxe-"
      }
    },
    {
      "cell_type": "code",
      "source": [
        "lst=[]\n",
        "\n",
        "for i in range(100,501):\n",
        "  if i%3 !=0 and i%13==0:\n",
        "    lst.append(i)\n",
        "\n",
        "print(lst)"
      ],
      "metadata": {
        "colab": {
          "base_uri": "https://localhost:8080/"
        },
        "id": "44P8T8efhwp2",
        "outputId": "e1c55cd3-5041-4a48-dd18-e9c360b12f8c"
      },
      "execution_count": null,
      "outputs": [
        {
          "output_type": "stream",
          "name": "stdout",
          "text": [
            "[104, 130, 143, 169, 182, 208, 221, 247, 260, 286, 299, 325, 338, 364, 377, 403, 416, 442, 455, 481, 494]\n"
          ]
        }
      ]
    },
    {
      "cell_type": "markdown",
      "source": [
        "**14) Write a Python program to convert temperatures to and from Celsius and Fahrenheit.**\n"
      ],
      "metadata": {
        "id": "XDU5O183ihA2"
      }
    },
    {
      "cell_type": "code",
      "source": [
        "C=int(input('Enter Temperature in Celcus \\n'))\n",
        "\n",
        "F=C*1.8+32\n",
        "\n",
        "print(f'{C} in Fahrenheit is {F}')"
      ],
      "metadata": {
        "colab": {
          "base_uri": "https://localhost:8080/"
        },
        "id": "KdqT0GeSif4n",
        "outputId": "e90606c3-5883-45a7-d669-e7a40d02c91a"
      },
      "execution_count": null,
      "outputs": [
        {
          "output_type": "stream",
          "name": "stdout",
          "text": [
            "Enter Temperature in Celcus \n",
            "32\n",
            "32 in Fahrenheit is 89.6\n"
          ]
        }
      ]
    },
    {
      "cell_type": "markdown",
      "source": [
        "15) Write a Python program that takes two digits m (row) and n (column) as input and generates a two-dimensional array. The element value in the i-th row and j-th column of the array should be i*j. else it will be 0 **bold text**"
      ],
      "metadata": {
        "id": "tHGYpXGIjYSY"
      }
    },
    {
      "cell_type": "code",
      "source": [
        "\n",
        "row=5\n",
        "col=3\n",
        "N=[]\n",
        "for i in range(row):\n",
        "  M=[]\n",
        "  for j in range(col):\n",
        "    M.append(int(str(i+1)+str(j+1)))\n",
        "  N.append(M)\n",
        "\n",
        "print(N)"
      ],
      "metadata": {
        "id": "5hwBtA8yjTPP",
        "colab": {
          "base_uri": "https://localhost:8080/"
        },
        "outputId": "ab5ee8db-8f31-453f-bbf5-2083f230dad6"
      },
      "execution_count": 10,
      "outputs": [
        {
          "output_type": "stream",
          "name": "stdout",
          "text": [
            "[[11, 12, 13], [21, 22, 23], [31, 32, 33], [41, 42, 43], [51, 52, 53]]\n"
          ]
        }
      ]
    },
    {
      "cell_type": "markdown",
      "source": [
        "16. Write a Python program that accepts a string and calculates the number of digits and letters.\n",
        "Sample Data: Python 3.2\n",
        "Expected Output:\n",
        "Letters 6\n",
        "Digits 2\n"
      ],
      "metadata": {
        "id": "yRd7iLwR_PCT"
      }
    },
    {
      "cell_type": "code",
      "source": [
        "x='Python 3.2'\n",
        "num=[]\n",
        "str1=[]\n",
        "\n",
        "for i in x:\n",
        "  if i.isalpha():\n",
        "    str1.append(i)\n",
        "  if i.isdigit():\n",
        "    num.append(i)\n",
        "\n",
        "print(f'Letter {len(str1)} Digit {len(num)}')\n",
        ""
      ],
      "metadata": {
        "id": "x98a2EOojUb2",
        "colab": {
          "base_uri": "https://localhost:8080/"
        },
        "outputId": "534fb394-7319-4edc-d44f-347b050353ee"
      },
      "execution_count": 20,
      "outputs": [
        {
          "output_type": "stream",
          "name": "stdout",
          "text": [
            "Letter 6 Digit 2\n"
          ]
        }
      ]
    },
    {
      "cell_type": "markdown",
      "source": [
        "\n",
        " **17) Print all possible combination for a string or a word\n",
        "Sample input “ABC”\n",
        "Sample output\n",
        "BAC\n",
        "CAB\n",
        "CBA\n",
        "ACB\n",
        "BCA\n",
        "**\n"
      ],
      "metadata": {
        "id": "37kvDI9mC4Va"
      }
    },
    {
      "cell_type": "code",
      "source": [
        "my_string='ABC'\n",
        "my_lst=[]\n",
        "for i in range(len(my_string)):\n",
        "\n",
        "  for j in range(len(my_string)):\n",
        "    for k in range(len(my_string)):\n",
        "      if i !=j and i !=k and j !=k:\n",
        "        my_lst.append(my_string[k]+my_string[j]+my_string[i])\n",
        "\n",
        "print(my_lst)"
      ],
      "metadata": {
        "colab": {
          "base_uri": "https://localhost:8080/"
        },
        "id": "qmSxrvwQB95C",
        "outputId": "7c10db2e-ef2d-4fc3-ab86-f16f7b916e18"
      },
      "execution_count": 35,
      "outputs": [
        {
          "output_type": "stream",
          "name": "stdout",
          "text": [
            "['CBA', 'BCA', 'CAB', 'ACB', 'BAC', 'ABC']\n"
          ]
        }
      ]
    },
    {
      "cell_type": "markdown",
      "source": [
        "**18) Write a Python program to check if a triangle is equilateral, isosceles or scalene. Take 3 inputs for each side\n",
        "\n",
        "\n",
        "Note :\n",
        "An equilateral triangle is a triangle in which all three sides are equal.\n",
        "A scalene triangle is a triangle that has three unequal sides.\n",
        "An isosceles triangle is a triangle with (at least) two equal sides.\n",
        "**"
      ],
      "metadata": {
        "id": "-l71GfV8ZbwT"
      }
    },
    {
      "cell_type": "code",
      "source": [
        "x=float(input('Enter length of first side'))\n",
        "y=float(input('Enter length of second side'))\n",
        "z=float(input('Enter length of third side'))\n",
        "\n",
        "def check_triangle_type(x,y,z):\n",
        "  if x==y and x==z:\n",
        "    print('This is equilateral triangle')\n",
        "  else:\n",
        "    if (x==y or x==z or y==z):\n",
        "      print('This is iosceles triangle')\n",
        "    else:\n",
        "      print('This is Scalene triangle')\n",
        "\n",
        "check_triangle_type(x,y,z)"
      ],
      "metadata": {
        "colab": {
          "base_uri": "https://localhost:8080/"
        },
        "id": "CWgKEuQPCAaY",
        "outputId": "a8771da8-6f92-4232-bf01-505dd94f0345"
      },
      "execution_count": 36,
      "outputs": [
        {
          "name": "stdout",
          "output_type": "stream",
          "text": [
            "Enter length of first side4\n",
            "Enter length of second side3\n",
            "Enter length of third side4\n"
          ]
        }
      ]
    },
    {
      "cell_type": "markdown",
      "source": [
        "**19) Write a Python program to get the next day of a given date.\n",
        "Expected Output:\n",
        "Input a year: 2016                                                      \n",
        "Input a month [1-12]: 08                                                \n",
        "Input a day [1-31]: 23                                                  \n",
        "The next date is [yyyy-mm-dd] 2016-8-24  \n",
        "**"
      ],
      "metadata": {
        "id": "Bh0lhCQjfaEb"
      }
    },
    {
      "cell_type": "code",
      "source": [
        "from datetime import date, timedelta\n",
        "\n",
        "yr=int(input('Enter Year\\n'))\n",
        "mnth=int(input('Enter month\\n'))\n",
        "d=int(input('Enter day\\n'))\n",
        "date1 = date(yr,mnth,d)\n",
        "date2 = date1 + timedelta(days=1)\n",
        "print (f'The next day of date {date1} is',date2)"
      ],
      "metadata": {
        "colab": {
          "base_uri": "https://localhost:8080/"
        },
        "id": "VJbE0feHCFfo",
        "outputId": "e91942b2-9a7b-4104-b36c-5a9619b7be72"
      },
      "execution_count": 44,
      "outputs": [
        {
          "output_type": "stream",
          "name": "stdout",
          "text": [
            "Enter Year2034\n",
            "Enter month10\n",
            "Enter day4\n",
            "The next day of date 2034-10-04 is 2034-10-05\n"
          ]
        }
      ]
    },
    {
      "cell_type": "code",
      "source": [],
      "metadata": {
        "id": "9ZWLnebWfNXJ"
      },
      "execution_count": null,
      "outputs": []
    }
  ]
}