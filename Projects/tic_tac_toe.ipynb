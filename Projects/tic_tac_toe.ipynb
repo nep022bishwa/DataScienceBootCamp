{
  "nbformat": 4,
  "nbformat_minor": 0,
  "metadata": {
    "colab": {
      "provenance": []
    },
    "kernelspec": {
      "name": "python3",
      "display_name": "Python 3"
    },
    "language_info": {
      "name": "python"
    }
  },
  "cells": [
    {
      "cell_type": "code",
      "execution_count": 31,
      "metadata": {
        "id": "U8tASLmbSX2E"
      },
      "outputs": [],
      "source": [
        "import random\n",
        "#create the function for board\n",
        "def get_board(x):\n",
        "  print(f'{x[0]} | {x[1]} | {x[2]}')\n",
        "  print('---------')\n",
        "  print(f'{x[3]} | {x[4]} | {x[5]}')\n",
        "  print('---------')\n",
        "  print(f'{x[6]} | {x[7]} | {x[8]}')\n",
        "  print('---------')\n"
      ]
    },
    {
      "cell_type": "code",
      "source": [],
      "metadata": {
        "id": "RbbjW4Pkke4q"
      },
      "execution_count": 31,
      "outputs": []
    },
    {
      "cell_type": "code",
      "source": [
        "#get the player input\n",
        "\n",
        "\n",
        "def player_input(x):\n",
        "  y=int(input('Enter the number between 1 and 9\\n'))\n",
        "  if y>=1 and y<=9 :\n",
        "    if x[y-1] =='-':\n",
        "       x[y-1]=currentplayer\n",
        "    else:\n",
        "      print('This is already selected please selected ')\n",
        "  else:\n",
        "    print('You have entered out of range value')\n",
        "\n",
        "\n"
      ],
      "metadata": {
        "id": "FuRr1AmvStlT"
      },
      "execution_count": 32,
      "outputs": []
    },
    {
      "cell_type": "code",
      "source": [
        "#player_input(board)\n",
        "#board\n",
        "#print(get_board(board))"
      ],
      "metadata": {
        "id": "QYwWQLalkt4r"
      },
      "execution_count": 33,
      "outputs": []
    },
    {
      "cell_type": "code",
      "source": [
        "#check for the win or tie\n",
        "\n",
        "def horizental_check(board):\n",
        "  global winner\n",
        "  if board[0]==board[1]==board[2] and board[0]!='-':\n",
        "    winner=board[0]\n",
        "    return True\n",
        "  elif board[3]==board[4]==board[5] and board[3]!='-':\n",
        "    winner=board[3]\n",
        "    return True\n",
        "  elif board[6]==board[7]==board[8] and board[7]!='-':\n",
        "    winner=board[6]\n",
        "    return True\n",
        "\n",
        "def vertical_check(board):\n",
        "  global winner\n",
        "  if board[0]==board[3]==board[6] and board[0]!='-':\n",
        "    winner=board[0]\n",
        "    return True\n",
        "  elif board[1]==board[4]==board[7] and board[1]!='-':\n",
        "    winner=board[1]\n",
        "    return True\n",
        "  elif board[2]==board[5]==board[8] and board[2]!='-':\n",
        "    winner=board[2]\n",
        "    return True\n",
        "\n",
        "\n",
        "def diag_check(board):\n",
        "  global winner\n",
        "  if board[0]==board[4]==board[8] and board[0]!='-':\n",
        "    winner=board[0]\n",
        "    return True\n",
        "  elif board[2]==board[4]==board[6] and board[2]!='-':\n",
        "    winner=board[2]\n",
        "    return True\n",
        "\n",
        "\n",
        "def check_tie(board):\n",
        "  global flag\n",
        "  if '-' not in board:\n",
        "    print('It a tie')\n",
        "    flag=False\n",
        "\n",
        "\n",
        "def check_win(board):\n",
        "  global flag\n",
        "  if diag_check(board) or vertical_check(board) or horizental_check(board) :\n",
        "    print(f'The winner is {winner}')\n",
        "    flag=False\n",
        "  else:\n",
        "    flag=True\n",
        "\n",
        "\n",
        "\n",
        "\n",
        "\n",
        "\n",
        "#switch the player\n",
        "def switchplayer():\n",
        "  global currentplayer\n",
        "  if currentplayer=='x':\n",
        "     currentplayer='o'\n",
        "  else:\n",
        "    currentplayer='x'\n",
        "\n",
        "\n",
        ""
      ],
      "metadata": {
        "id": "8K1iZ7RfaP5Z"
      },
      "execution_count": 37,
      "outputs": []
    },
    {
      "cell_type": "code",
      "source": [
        "def computer_select(board):\n",
        "    while currentplayer=='o':\n",
        "      position=random.randint(0,8)\n",
        "      if board[position]=='-':\n",
        "         board[position]='o'\n",
        "         switchplayer()\n",
        ""
      ],
      "metadata": {
        "id": "akF3fTUtcqSD"
      },
      "execution_count": 41,
      "outputs": []
    },
    {
      "cell_type": "code",
      "source": [
        "import random\n",
        "flag=True\n",
        "currentplayer='x'\n",
        "#creating the board\n",
        "board=['-','-','-','-','-','-','-','-','-']\n",
        "while flag:\n",
        "  get_board(board)\n",
        "  player_input(board)\n",
        "\n",
        "  check_win(board)\n",
        "  check_tie(board)\n",
        "  switchplayer()\n",
        "  computer_select(board)\n",
        "  check_win(board)\n",
        "  check_win(board)\n",
        "\n",
        "\n"
      ],
      "metadata": {
        "colab": {
          "base_uri": "https://localhost:8080/"
        },
        "id": "0yUeEMACqmxE",
        "outputId": "b553fa8b-159b-4d07-e36d-ce099b8ca16d"
      },
      "execution_count": 45,
      "outputs": [
        {
          "output_type": "stream",
          "name": "stdout",
          "text": [
            "- | - | -\n",
            "---------\n",
            "- | - | -\n",
            "---------\n",
            "- | - | -\n",
            "---------\n",
            "Enter the number between 1 and 9\n",
            "4\n",
            "- | - | -\n",
            "---------\n",
            "x | - | -\n",
            "---------\n",
            "- | - | o\n",
            "---------\n",
            "Enter the number between 1 and 9\n",
            "1\n",
            "x | - | o\n",
            "---------\n",
            "x | - | -\n",
            "---------\n",
            "- | - | o\n",
            "---------\n",
            "Enter the number between 1 and 9\n",
            "7\n",
            "The winner is x\n",
            "The winner is x\n",
            "The winner is x\n"
          ]
        }
      ]
    }
  ]
}