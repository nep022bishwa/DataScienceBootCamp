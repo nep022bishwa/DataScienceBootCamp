{
  "nbformat": 4,
  "nbformat_minor": 0,
  "metadata": {
    "colab": {
      "provenance": []
    },
    "kernelspec": {
      "name": "python3",
      "display_name": "Python 3"
    },
    "language_info": {
      "name": "python"
    }
  },
  "cells": [
    {
      "cell_type": "code",
      "execution_count": 13,
      "metadata": {
        "id": "byB_iCxTgnva"
      },
      "outputs": [],
      "source": []
    },
    {
      "cell_type": "code",
      "source": [
        "import random\n",
        "possible_outcomes=['Rock','Paper','Scissor']\n",
        "result=False\n",
        "\n",
        "while result ==False:\n",
        "  computer_action=random.choice(possible_outcomes).upper()\n",
        "\n",
        "  user_input=input('Please Enter the Rock, Paper or Scissor').upper()\n",
        "\n",
        "  if user_input==computer_action:\n",
        "    result=False\n",
        "    print('It a tie, Try again')\n",
        "  elif user_input=='ROCK':\n",
        "    if computer_action=='Paper':\n",
        "      result=False\n",
        "      print('Computer Win, try again')\n",
        "    else:\n",
        "      result=True\n",
        "      print('You Win, Congratulation')\n",
        "  elif user_input=='PAPER':\n",
        "    if computer_action=='ROCK':\n",
        "      result=False\n",
        "      print('Computer Wins, Try again')\n",
        "    else:\n",
        "      result=True\n",
        "      print('You Win, Congratulations')\n",
        "  elif user_input=='SCISSOR':\n",
        "    if computer_action=='ROCK':\n",
        "      result=False\n",
        "      print('Computer Win, Try again')\n",
        "    else:\n",
        "      reuslt=True\n",
        "      print('You Win, Congratulations')\n",
        ""
      ],
      "metadata": {
        "colab": {
          "base_uri": "https://localhost:8080/"
        },
        "id": "STclirWhhBJ8",
        "outputId": "4c3d1852-62b2-4dc2-ff70-cd53ada1b914"
      },
      "execution_count": 13,
      "outputs": [
        {
          "output_type": "stream",
          "name": "stdout",
          "text": [
            "computer action= ROCK\n",
            "Please Enter the Rock, Paper or Scissorscissor\n",
            "user input= SCISSOR\n",
            "Computer Win, Try again\n",
            "computer action= SCISSOR\n",
            "Please Enter the Rock, Paper or ScissorScissor\n",
            "user input= SCISSOR\n",
            "It a tie, Try again\n",
            "computer action= ROCK\n",
            "Please Enter the Rock, Paper or ScissorROCK\n",
            "user input= ROCK\n",
            "It a tie, Try again\n",
            "computer action= ROCK\n",
            "Please Enter the Rock, Paper or Scissorpaper\n",
            "user input= PAPER\n",
            "Computer Wins, Try again\n",
            "computer action= SCISSOR\n",
            "Please Enter the Rock, Paper or ScissorRock\n",
            "user input= ROCK\n",
            "You Win, Congratulation\n"
          ]
        }
      ]
    },
    {
      "cell_type": "code",
      "source": [],
      "metadata": {
        "id": "xpWMKDwBnYdG"
      },
      "execution_count": null,
      "outputs": []
    }
  ]
}